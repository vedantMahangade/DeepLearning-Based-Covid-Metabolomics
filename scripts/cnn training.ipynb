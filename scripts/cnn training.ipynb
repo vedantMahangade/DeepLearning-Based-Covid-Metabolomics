{
 "cells": [
  {
   "cell_type": "code",
   "execution_count": null,
   "metadata": {},
   "outputs": [],
   "source": [
    "import pickle\n",
    "import numpy as np\n",
    "import pandas as pd\n",
    "import shap\n",
    "import matplotlib.pyplot as plt\n",
    "from sklearn.model_selection import train_test_split\n",
    "from sklearn.preprocessing import StandardScaler, LabelEncoder\n",
    "import torch\n",
    "import torch.nn as nn\n",
    "import torch.optim as optim\n",
    "from torch.utils.data import DataLoader, TensorDataset\n",
    "from sklearn.metrics import classification_report, confusion_matrix\n",
    "import seaborn as sns"
   ]
  },
  {
   "cell_type": "markdown",
   "metadata": {},
   "source": [
    "## Import & Prepare data"
   ]
  },
  {
   "cell_type": "code",
   "execution_count": 3,
   "metadata": {},
   "outputs": [],
   "source": [
    "data = pd.read_csv('../data/covid19_metabolites.csv')"
   ]
  },
  {
   "cell_type": "code",
   "execution_count": 4,
   "metadata": {},
   "outputs": [
    {
     "data": {
      "text/html": [
       "<div>\n",
       "<style scoped>\n",
       "    .dataframe tbody tr th:only-of-type {\n",
       "        vertical-align: middle;\n",
       "    }\n",
       "\n",
       "    .dataframe tbody tr th {\n",
       "        vertical-align: top;\n",
       "    }\n",
       "\n",
       "    .dataframe thead th {\n",
       "        text-align: right;\n",
       "    }\n",
       "</style>\n",
       "<table border=\"1\" class=\"dataframe\">\n",
       "  <thead>\n",
       "    <tr style=\"text-align: right;\">\n",
       "      <th></th>\n",
       "      <th>SubjectId</th>\n",
       "      <th>Group</th>\n",
       "      <th>Sex</th>\n",
       "      <th>Age</th>\n",
       "      <th>Creatinine</th>\n",
       "      <th>Glycine</th>\n",
       "      <th>Alanine</th>\n",
       "      <th>Serine</th>\n",
       "      <th>Proline</th>\n",
       "      <th>Valine</th>\n",
       "      <th>...</th>\n",
       "      <th>Hydroxybutyrylcarnitine</th>\n",
       "      <th>Octanoylcarnitine</th>\n",
       "      <th>Decadienoylcarnitine</th>\n",
       "      <th>Decenoylcarnitine</th>\n",
       "      <th>Decanoylcarnitine</th>\n",
       "      <th>Dodecenoylcarnitine</th>\n",
       "      <th>Dodecanoylcarnitine</th>\n",
       "      <th>Hexadecanoylcarnitine</th>\n",
       "      <th>Octadecadienylcarnitine</th>\n",
       "      <th>Octadecenoylcarnitine</th>\n",
       "    </tr>\n",
       "  </thead>\n",
       "  <tbody>\n",
       "    <tr>\n",
       "      <th>0</th>\n",
       "      <td>CV19-0007A</td>\n",
       "      <td>Control</td>\n",
       "      <td>Female</td>\n",
       "      <td>68.0</td>\n",
       "      <td>166.0</td>\n",
       "      <td>230.0</td>\n",
       "      <td>236.0</td>\n",
       "      <td>117.0</td>\n",
       "      <td>151.0</td>\n",
       "      <td>170.0</td>\n",
       "      <td>...</td>\n",
       "      <td>0.2001</td>\n",
       "      <td>0.1216</td>\n",
       "      <td>0.0789</td>\n",
       "      <td>0.2072</td>\n",
       "      <td>0.2437</td>\n",
       "      <td>0.1584</td>\n",
       "      <td>0.1266</td>\n",
       "      <td>0.2262</td>\n",
       "      <td>0.1301</td>\n",
       "      <td>0.2876</td>\n",
       "    </tr>\n",
       "    <tr>\n",
       "      <th>1</th>\n",
       "      <td>CV19-0071A</td>\n",
       "      <td>Control</td>\n",
       "      <td>Female</td>\n",
       "      <td>57.0</td>\n",
       "      <td>67.0</td>\n",
       "      <td>233.0</td>\n",
       "      <td>343.0</td>\n",
       "      <td>89.2</td>\n",
       "      <td>151.0</td>\n",
       "      <td>145.0</td>\n",
       "      <td>...</td>\n",
       "      <td>0.0741</td>\n",
       "      <td>0.2256</td>\n",
       "      <td>0.0695</td>\n",
       "      <td>0.2310</td>\n",
       "      <td>0.3679</td>\n",
       "      <td>0.1526</td>\n",
       "      <td>0.1123</td>\n",
       "      <td>0.1534</td>\n",
       "      <td>0.1190</td>\n",
       "      <td>0.2378</td>\n",
       "    </tr>\n",
       "    <tr>\n",
       "      <th>2</th>\n",
       "      <td>CV19-0079A</td>\n",
       "      <td>Control</td>\n",
       "      <td>Male</td>\n",
       "      <td>39.0</td>\n",
       "      <td>69.2</td>\n",
       "      <td>250.0</td>\n",
       "      <td>371.0</td>\n",
       "      <td>129.0</td>\n",
       "      <td>175.0</td>\n",
       "      <td>207.0</td>\n",
       "      <td>...</td>\n",
       "      <td>0.0416</td>\n",
       "      <td>0.0951</td>\n",
       "      <td>0.0996</td>\n",
       "      <td>0.1439</td>\n",
       "      <td>0.1661</td>\n",
       "      <td>0.0977</td>\n",
       "      <td>0.0860</td>\n",
       "      <td>0.2005</td>\n",
       "      <td>0.1604</td>\n",
       "      <td>0.3066</td>\n",
       "    </tr>\n",
       "    <tr>\n",
       "      <th>3</th>\n",
       "      <td>CV19-0118A</td>\n",
       "      <td>Control</td>\n",
       "      <td>Female</td>\n",
       "      <td>40.0</td>\n",
       "      <td>54.2</td>\n",
       "      <td>190.0</td>\n",
       "      <td>415.0</td>\n",
       "      <td>103.0</td>\n",
       "      <td>165.0</td>\n",
       "      <td>149.0</td>\n",
       "      <td>...</td>\n",
       "      <td>0.0291</td>\n",
       "      <td>0.2326</td>\n",
       "      <td>0.0705</td>\n",
       "      <td>0.2509</td>\n",
       "      <td>0.3039</td>\n",
       "      <td>0.1262</td>\n",
       "      <td>0.0775</td>\n",
       "      <td>0.0983</td>\n",
       "      <td>0.0702</td>\n",
       "      <td>0.1598</td>\n",
       "    </tr>\n",
       "    <tr>\n",
       "      <th>4</th>\n",
       "      <td>CV19-0125A</td>\n",
       "      <td>Control</td>\n",
       "      <td>Female</td>\n",
       "      <td>40.0</td>\n",
       "      <td>63.1</td>\n",
       "      <td>189.0</td>\n",
       "      <td>373.0</td>\n",
       "      <td>94.5</td>\n",
       "      <td>167.0</td>\n",
       "      <td>158.0</td>\n",
       "      <td>...</td>\n",
       "      <td>0.0592</td>\n",
       "      <td>0.1857</td>\n",
       "      <td>0.0709</td>\n",
       "      <td>0.2856</td>\n",
       "      <td>0.3549</td>\n",
       "      <td>0.1938</td>\n",
       "      <td>0.1446</td>\n",
       "      <td>0.1281</td>\n",
       "      <td>0.0998</td>\n",
       "      <td>0.2283</td>\n",
       "    </tr>\n",
       "    <tr>\n",
       "      <th>...</th>\n",
       "      <td>...</td>\n",
       "      <td>...</td>\n",
       "      <td>...</td>\n",
       "      <td>...</td>\n",
       "      <td>...</td>\n",
       "      <td>...</td>\n",
       "      <td>...</td>\n",
       "      <td>...</td>\n",
       "      <td>...</td>\n",
       "      <td>...</td>\n",
       "      <td>...</td>\n",
       "      <td>...</td>\n",
       "      <td>...</td>\n",
       "      <td>...</td>\n",
       "      <td>...</td>\n",
       "      <td>...</td>\n",
       "      <td>...</td>\n",
       "      <td>...</td>\n",
       "      <td>...</td>\n",
       "      <td>...</td>\n",
       "      <td>...</td>\n",
       "    </tr>\n",
       "    <tr>\n",
       "      <th>226</th>\n",
       "      <td>CV19-0830A</td>\n",
       "      <td>Covid</td>\n",
       "      <td>Female</td>\n",
       "      <td>51.0</td>\n",
       "      <td>89.9</td>\n",
       "      <td>117.0</td>\n",
       "      <td>273.0</td>\n",
       "      <td>58.3</td>\n",
       "      <td>125.0</td>\n",
       "      <td>245.0</td>\n",
       "      <td>...</td>\n",
       "      <td>0.1570</td>\n",
       "      <td>0.1348</td>\n",
       "      <td>0.1569</td>\n",
       "      <td>0.2186</td>\n",
       "      <td>0.4441</td>\n",
       "      <td>0.1232</td>\n",
       "      <td>0.0938</td>\n",
       "      <td>0.1326</td>\n",
       "      <td>0.1060</td>\n",
       "      <td>0.2467</td>\n",
       "    </tr>\n",
       "    <tr>\n",
       "      <th>227</th>\n",
       "      <td>CV19-0833A</td>\n",
       "      <td>Covid</td>\n",
       "      <td>Male</td>\n",
       "      <td>65.0</td>\n",
       "      <td>112.0</td>\n",
       "      <td>162.0</td>\n",
       "      <td>497.0</td>\n",
       "      <td>88.7</td>\n",
       "      <td>111.0</td>\n",
       "      <td>275.0</td>\n",
       "      <td>...</td>\n",
       "      <td>0.0738</td>\n",
       "      <td>0.2481</td>\n",
       "      <td>0.1557</td>\n",
       "      <td>0.3837</td>\n",
       "      <td>0.6554</td>\n",
       "      <td>0.1521</td>\n",
       "      <td>0.0903</td>\n",
       "      <td>0.1158</td>\n",
       "      <td>0.0797</td>\n",
       "      <td>0.1718</td>\n",
       "    </tr>\n",
       "    <tr>\n",
       "      <th>228</th>\n",
       "      <td>CV19-0834A</td>\n",
       "      <td>Covid</td>\n",
       "      <td>Male</td>\n",
       "      <td>66.0</td>\n",
       "      <td>114.0</td>\n",
       "      <td>181.0</td>\n",
       "      <td>574.0</td>\n",
       "      <td>90.8</td>\n",
       "      <td>206.0</td>\n",
       "      <td>247.0</td>\n",
       "      <td>...</td>\n",
       "      <td>0.1481</td>\n",
       "      <td>0.2395</td>\n",
       "      <td>0.1776</td>\n",
       "      <td>0.3464</td>\n",
       "      <td>0.3441</td>\n",
       "      <td>0.2043</td>\n",
       "      <td>0.1211</td>\n",
       "      <td>0.1922</td>\n",
       "      <td>0.1354</td>\n",
       "      <td>0.3183</td>\n",
       "    </tr>\n",
       "    <tr>\n",
       "      <th>229</th>\n",
       "      <td>CV19-0932A</td>\n",
       "      <td>Covid</td>\n",
       "      <td>Male</td>\n",
       "      <td>53.0</td>\n",
       "      <td>68.3</td>\n",
       "      <td>321.0</td>\n",
       "      <td>551.0</td>\n",
       "      <td>163.0</td>\n",
       "      <td>219.0</td>\n",
       "      <td>552.0</td>\n",
       "      <td>...</td>\n",
       "      <td>1.0753</td>\n",
       "      <td>0.3273</td>\n",
       "      <td>0.1791</td>\n",
       "      <td>0.4793</td>\n",
       "      <td>0.5729</td>\n",
       "      <td>0.2027</td>\n",
       "      <td>0.1921</td>\n",
       "      <td>0.1784</td>\n",
       "      <td>0.1350</td>\n",
       "      <td>0.3122</td>\n",
       "    </tr>\n",
       "    <tr>\n",
       "      <th>230</th>\n",
       "      <td>CV19-0936A</td>\n",
       "      <td>Covid</td>\n",
       "      <td>Male</td>\n",
       "      <td>66.0</td>\n",
       "      <td>101.0</td>\n",
       "      <td>216.0</td>\n",
       "      <td>543.0</td>\n",
       "      <td>101.0</td>\n",
       "      <td>89.5</td>\n",
       "      <td>273.0</td>\n",
       "      <td>...</td>\n",
       "      <td>0.0655</td>\n",
       "      <td>0.1934</td>\n",
       "      <td>0.1900</td>\n",
       "      <td>0.2726</td>\n",
       "      <td>0.3561</td>\n",
       "      <td>0.0964</td>\n",
       "      <td>0.0694</td>\n",
       "      <td>0.0953</td>\n",
       "      <td>0.0675</td>\n",
       "      <td>0.1611</td>\n",
       "    </tr>\n",
       "  </tbody>\n",
       "</table>\n",
       "<p>231 rows × 111 columns</p>\n",
       "</div>"
      ],
      "text/plain": [
       "      SubjectId    Group     Sex   Age  Creatinine  Glycine  Alanine  Serine  \\\n",
       "0    CV19-0007A  Control  Female  68.0       166.0    230.0    236.0   117.0   \n",
       "1    CV19-0071A  Control  Female  57.0        67.0    233.0    343.0    89.2   \n",
       "2    CV19-0079A  Control    Male  39.0        69.2    250.0    371.0   129.0   \n",
       "3    CV19-0118A  Control  Female  40.0        54.2    190.0    415.0   103.0   \n",
       "4    CV19-0125A  Control  Female  40.0        63.1    189.0    373.0    94.5   \n",
       "..          ...      ...     ...   ...         ...      ...      ...     ...   \n",
       "226  CV19-0830A    Covid  Female  51.0        89.9    117.0    273.0    58.3   \n",
       "227  CV19-0833A    Covid    Male  65.0       112.0    162.0    497.0    88.7   \n",
       "228  CV19-0834A    Covid    Male  66.0       114.0    181.0    574.0    90.8   \n",
       "229  CV19-0932A    Covid    Male  53.0        68.3    321.0    551.0   163.0   \n",
       "230  CV19-0936A    Covid    Male  66.0       101.0    216.0    543.0   101.0   \n",
       "\n",
       "     Proline  Valine  ...  Hydroxybutyrylcarnitine  Octanoylcarnitine  \\\n",
       "0      151.0   170.0  ...                   0.2001             0.1216   \n",
       "1      151.0   145.0  ...                   0.0741             0.2256   \n",
       "2      175.0   207.0  ...                   0.0416             0.0951   \n",
       "3      165.0   149.0  ...                   0.0291             0.2326   \n",
       "4      167.0   158.0  ...                   0.0592             0.1857   \n",
       "..       ...     ...  ...                      ...                ...   \n",
       "226    125.0   245.0  ...                   0.1570             0.1348   \n",
       "227    111.0   275.0  ...                   0.0738             0.2481   \n",
       "228    206.0   247.0  ...                   0.1481             0.2395   \n",
       "229    219.0   552.0  ...                   1.0753             0.3273   \n",
       "230     89.5   273.0  ...                   0.0655             0.1934   \n",
       "\n",
       "     Decadienoylcarnitine  Decenoylcarnitine  Decanoylcarnitine  \\\n",
       "0                  0.0789             0.2072             0.2437   \n",
       "1                  0.0695             0.2310             0.3679   \n",
       "2                  0.0996             0.1439             0.1661   \n",
       "3                  0.0705             0.2509             0.3039   \n",
       "4                  0.0709             0.2856             0.3549   \n",
       "..                    ...                ...                ...   \n",
       "226                0.1569             0.2186             0.4441   \n",
       "227                0.1557             0.3837             0.6554   \n",
       "228                0.1776             0.3464             0.3441   \n",
       "229                0.1791             0.4793             0.5729   \n",
       "230                0.1900             0.2726             0.3561   \n",
       "\n",
       "     Dodecenoylcarnitine  Dodecanoylcarnitine  Hexadecanoylcarnitine  \\\n",
       "0                 0.1584               0.1266                 0.2262   \n",
       "1                 0.1526               0.1123                 0.1534   \n",
       "2                 0.0977               0.0860                 0.2005   \n",
       "3                 0.1262               0.0775                 0.0983   \n",
       "4                 0.1938               0.1446                 0.1281   \n",
       "..                   ...                  ...                    ...   \n",
       "226               0.1232               0.0938                 0.1326   \n",
       "227               0.1521               0.0903                 0.1158   \n",
       "228               0.2043               0.1211                 0.1922   \n",
       "229               0.2027               0.1921                 0.1784   \n",
       "230               0.0964               0.0694                 0.0953   \n",
       "\n",
       "     Octadecadienylcarnitine  Octadecenoylcarnitine  \n",
       "0                     0.1301                 0.2876  \n",
       "1                     0.1190                 0.2378  \n",
       "2                     0.1604                 0.3066  \n",
       "3                     0.0702                 0.1598  \n",
       "4                     0.0998                 0.2283  \n",
       "..                       ...                    ...  \n",
       "226                   0.1060                 0.2467  \n",
       "227                   0.0797                 0.1718  \n",
       "228                   0.1354                 0.3183  \n",
       "229                   0.1350                 0.3122  \n",
       "230                   0.0675                 0.1611  \n",
       "\n",
       "[231 rows x 111 columns]"
      ]
     },
     "execution_count": 4,
     "metadata": {},
     "output_type": "execute_result"
    }
   ],
   "source": [
    "data"
   ]
  },
  {
   "cell_type": "markdown",
   "metadata": {},
   "source": [
    "### Encoding the target varable"
   ]
  },
  {
   "cell_type": "code",
   "execution_count": 5,
   "metadata": {},
   "outputs": [],
   "source": [
    "# Split features\n",
    "X = data.iloc[:, 2:]"
   ]
  },
  {
   "cell_type": "code",
   "execution_count": 6,
   "metadata": {},
   "outputs": [],
   "source": [
    "# Initialize the LabelEncoder\n",
    "label_encoder = LabelEncoder()\n",
    "\n",
    "# encode labels\n",
    "Y = label_encoder.fit_transform(data['Group'])"
   ]
  },
  {
   "cell_type": "code",
   "execution_count": 7,
   "metadata": {},
   "outputs": [
    {
     "data": {
      "text/plain": [
       "{0: 'Control', 1: 'Covid', 2: 'Recovered'}"
      ]
     },
     "execution_count": 7,
     "metadata": {},
     "output_type": "execute_result"
    }
   ],
   "source": [
    "dict(zip(list(set(Y)),label_encoder.inverse_transform(list(set(Y)))))"
   ]
  },
  {
   "cell_type": "markdown",
   "metadata": {},
   "source": [
    "### One hot encoding"
   ]
  },
  {
   "cell_type": "code",
   "execution_count": 8,
   "metadata": {},
   "outputs": [],
   "source": [
    "X = pd.get_dummies(X, columns=['Sex'], prefix='Sex',dtype = float)"
   ]
  },
  {
   "cell_type": "code",
   "execution_count": 9,
   "metadata": {},
   "outputs": [
    {
     "data": {
      "text/html": [
       "<div>\n",
       "<style scoped>\n",
       "    .dataframe tbody tr th:only-of-type {\n",
       "        vertical-align: middle;\n",
       "    }\n",
       "\n",
       "    .dataframe tbody tr th {\n",
       "        vertical-align: top;\n",
       "    }\n",
       "\n",
       "    .dataframe thead th {\n",
       "        text-align: right;\n",
       "    }\n",
       "</style>\n",
       "<table border=\"1\" class=\"dataframe\">\n",
       "  <thead>\n",
       "    <tr style=\"text-align: right;\">\n",
       "      <th></th>\n",
       "      <th>Sex_Female</th>\n",
       "      <th>Sex_Male</th>\n",
       "    </tr>\n",
       "  </thead>\n",
       "  <tbody>\n",
       "    <tr>\n",
       "      <th>0</th>\n",
       "      <td>1.0</td>\n",
       "      <td>0.0</td>\n",
       "    </tr>\n",
       "    <tr>\n",
       "      <th>1</th>\n",
       "      <td>1.0</td>\n",
       "      <td>0.0</td>\n",
       "    </tr>\n",
       "    <tr>\n",
       "      <th>2</th>\n",
       "      <td>0.0</td>\n",
       "      <td>1.0</td>\n",
       "    </tr>\n",
       "    <tr>\n",
       "      <th>3</th>\n",
       "      <td>1.0</td>\n",
       "      <td>0.0</td>\n",
       "    </tr>\n",
       "    <tr>\n",
       "      <th>4</th>\n",
       "      <td>1.0</td>\n",
       "      <td>0.0</td>\n",
       "    </tr>\n",
       "    <tr>\n",
       "      <th>...</th>\n",
       "      <td>...</td>\n",
       "      <td>...</td>\n",
       "    </tr>\n",
       "    <tr>\n",
       "      <th>226</th>\n",
       "      <td>1.0</td>\n",
       "      <td>0.0</td>\n",
       "    </tr>\n",
       "    <tr>\n",
       "      <th>227</th>\n",
       "      <td>0.0</td>\n",
       "      <td>1.0</td>\n",
       "    </tr>\n",
       "    <tr>\n",
       "      <th>228</th>\n",
       "      <td>0.0</td>\n",
       "      <td>1.0</td>\n",
       "    </tr>\n",
       "    <tr>\n",
       "      <th>229</th>\n",
       "      <td>0.0</td>\n",
       "      <td>1.0</td>\n",
       "    </tr>\n",
       "    <tr>\n",
       "      <th>230</th>\n",
       "      <td>0.0</td>\n",
       "      <td>1.0</td>\n",
       "    </tr>\n",
       "  </tbody>\n",
       "</table>\n",
       "<p>231 rows × 2 columns</p>\n",
       "</div>"
      ],
      "text/plain": [
       "     Sex_Female  Sex_Male\n",
       "0           1.0       0.0\n",
       "1           1.0       0.0\n",
       "2           0.0       1.0\n",
       "3           1.0       0.0\n",
       "4           1.0       0.0\n",
       "..          ...       ...\n",
       "226         1.0       0.0\n",
       "227         0.0       1.0\n",
       "228         0.0       1.0\n",
       "229         0.0       1.0\n",
       "230         0.0       1.0\n",
       "\n",
       "[231 rows x 2 columns]"
      ]
     },
     "execution_count": 9,
     "metadata": {},
     "output_type": "execute_result"
    }
   ],
   "source": [
    "X.iloc[:,108:]"
   ]
  },
  {
   "cell_type": "markdown",
   "metadata": {},
   "source": [
    "### Train/Test split"
   ]
  },
  {
   "cell_type": "code",
   "execution_count": 10,
   "metadata": {},
   "outputs": [],
   "source": [
    "X_train, X_temp, Y_train, Y_temp = train_test_split(X, Y, test_size=0.2, random_state=42, stratify=Y)  # 80% Train, 20% Temp\n",
    "X_val, X_test, Y_val, Y_test = train_test_split(X_temp, Y_temp, test_size=0.5, random_state=42, stratify=Y_temp)  # 10% Val, 10% Test"
   ]
  },
  {
   "cell_type": "code",
   "execution_count": 11,
   "metadata": {},
   "outputs": [
    {
     "data": {
      "text/plain": [
       "array([0, 0, 2, 1, 1, 2, 1, 1, 1, 1, 1, 1, 1, 1, 2, 1, 2, 0, 1, 1, 0, 1,\n",
       "       2, 1])"
      ]
     },
     "execution_count": 11,
     "metadata": {},
     "output_type": "execute_result"
    }
   ],
   "source": [
    "Y_test"
   ]
  },
  {
   "cell_type": "code",
   "execution_count": 12,
   "metadata": {},
   "outputs": [
    {
     "name": "stdout",
     "output_type": "stream",
     "text": [
      "Train Size: 184\n",
      "Test Size: 23\n",
      "Test Size: 24\n"
     ]
    }
   ],
   "source": [
    "print('Train Size:', len(X_train))\n",
    "print('Test Size:',len(X_val))\n",
    "print('Test Size:',len(X_test))\n",
    "# print('Train shape:', X_train.shape, Y_train.shape)\n",
    "# print('Test shape:', X_test.shape, Y_test.shape)"
   ]
  },
  {
   "cell_type": "markdown",
   "metadata": {},
   "source": [
    "### Normalize data"
   ]
  },
  {
   "cell_type": "code",
   "execution_count": 13,
   "metadata": {},
   "outputs": [],
   "source": [
    "# Normalize the data\n",
    "scaler = StandardScaler()\n",
    "X_train.iloc[:, :-2] = scaler.fit_transform(X_train.iloc[:, :-2])  # Normalize all metabolite and age columns\n",
    "X_val.iloc[:, :-2] = scaler.transform(X_val.iloc[:, :-2])\n",
    "X_test.iloc[:, :-2] = scaler.transform(X_test.iloc[:, :-2])"
   ]
  },
  {
   "cell_type": "code",
   "execution_count": 14,
   "metadata": {},
   "outputs": [],
   "source": [
    "# Y_train_onehot = to_categorical(Y_train, num_classes=3)\n",
    "# Y_test_onehot = to_categorical(Y_test, num_classes=3)"
   ]
  },
  {
   "cell_type": "markdown",
   "metadata": {},
   "source": [
    "### Prepare datasets"
   ]
  },
  {
   "cell_type": "code",
   "execution_count": 15,
   "metadata": {},
   "outputs": [],
   "source": [
    "# Prepare Dataset\n",
    "X_train_tensor = torch.tensor(X_train.values, dtype=torch.float32)\n",
    "y_train_tensor = torch.tensor(Y_train, dtype=torch.long)\n",
    "\n",
    "X_val_tensor = torch.tensor(X_val.values, dtype=torch.float32)\n",
    "y_val_tensor = torch.tensor(Y_val, dtype=torch.long)\n",
    "\n",
    "X_test_tensor = torch.tensor(X_test.values, dtype=torch.float32)\n",
    "y_test_tensor = torch.tensor(Y_test, dtype=torch.long)"
   ]
  },
  {
   "cell_type": "code",
   "execution_count": 16,
   "metadata": {},
   "outputs": [],
   "source": [
    "train_dataset = TensorDataset(X_train_tensor, y_train_tensor)\n",
    "val_dataset = TensorDataset(X_val_tensor, y_val_tensor)\n",
    "test_dataset = TensorDataset(X_test_tensor, y_test_tensor)"
   ]
  },
  {
   "cell_type": "code",
   "execution_count": 17,
   "metadata": {},
   "outputs": [],
   "source": [
    "train_loader = DataLoader(train_dataset, batch_size=64, shuffle=True)\n",
    "val_loader = DataLoader(val_dataset, batch_size=64, shuffle=False)\n",
    "test_loader = DataLoader(test_dataset, batch_size=64, shuffle=False)"
   ]
  },
  {
   "cell_type": "markdown",
   "metadata": {},
   "source": [
    "## Convolutional neural network"
   ]
  },
  {
   "cell_type": "code",
   "execution_count": 34,
   "metadata": {},
   "outputs": [],
   "source": [
    "class MetCNN(nn.Module):\n",
    "    def __init__(self, input_size):\n",
    "        super(MetCNN, self).__init__()\n",
    "        self.conv_layers = nn.Sequential(\n",
    "            nn.Conv2d(1, 12, kernel_size=3, stride=1, padding=1),\n",
    "            nn.ReLU(),\n",
    "            nn.Conv2d(12, 48, kernel_size=3, stride=1, padding=1),\n",
    "            nn.ReLU(),\n",
    "            nn.Conv2d(48, 256, kernel_size=3, stride=1, padding=1),\n",
    "            nn.ReLU(),\n",
    "            nn.MaxPool2d(kernel_size=2),\n",
    "            nn.AdaptiveAvgPool2d((1, 1))\n",
    "        )\n",
    "        self.fc_layers = nn.Sequential(\n",
    "            nn.Linear(256, 120),\n",
    "            nn.ReLU(),\n",
    "            nn.Linear(120, 60),\n",
    "            nn.ReLU(),\n",
    "            nn.Linear(60, 3)  # Output classes\n",
    "        )\n",
    "\n",
    "    def forward(self, x):\n",
    "        x = x.view(x.size(0), 1, 10, 11)  # Reshape input\n",
    "        x = self.conv_layers(x)\n",
    "        x = x.view(x.size(0), -1)  # Flatten\n",
    "        x = self.fc_layers(x)\n",
    "        return x"
   ]
  },
  {
   "cell_type": "code",
   "execution_count": 35,
   "metadata": {},
   "outputs": [],
   "source": [
    "# Training the Model\n",
    "model = MetCNN(input_size=110)\n",
    "# class_weights = torch.tensor([2.0, 1.5, 2.0])  # Example weights for Control, Covid, Recovered\n",
    "# criterion = nn.CrossEntropyLoss(weight=class_weights)\n",
    "criterion = nn.CrossEntropyLoss()\n",
    "optimizer = optim.Adam(model.parameters(), lr=1e-4)"
   ]
  },
  {
   "cell_type": "code",
   "execution_count": 36,
   "metadata": {},
   "outputs": [],
   "source": [
    "\n",
    "# Initialize lists to store metrics for plotting\n",
    "train_losses = []\n",
    "val_losses = []\n",
    "train_accuracies = []\n",
    "val_accuracies = []"
   ]
  },
  {
   "cell_type": "code",
   "execution_count": 37,
   "metadata": {},
   "outputs": [
    {
     "name": "stdout",
     "output_type": "stream",
     "text": [
      "Epoch 1, Train Loss: 1.0702, Val Loss: 1.0672, Train Accuracy: 0.6250, Val Accuracy: 0.6087\n",
      "Epoch 2, Train Loss: 1.0641, Val Loss: 1.0608, Train Accuracy: 0.6250, Val Accuracy: 0.6087\n",
      "Epoch 3, Train Loss: 1.0591, Val Loss: 1.0559, Train Accuracy: 0.6250, Val Accuracy: 0.6087\n",
      "Epoch 4, Train Loss: 1.0536, Val Loss: 1.0513, Train Accuracy: 0.6250, Val Accuracy: 0.6087\n",
      "Epoch 5, Train Loss: 1.0498, Val Loss: 1.0469, Train Accuracy: 0.6250, Val Accuracy: 0.6087\n",
      "Epoch 6, Train Loss: 1.0457, Val Loss: 1.0421, Train Accuracy: 0.6250, Val Accuracy: 0.6087\n",
      "Epoch 7, Train Loss: 1.0402, Val Loss: 1.0368, Train Accuracy: 0.6250, Val Accuracy: 0.6087\n",
      "Epoch 8, Train Loss: 1.0364, Val Loss: 1.0308, Train Accuracy: 0.6250, Val Accuracy: 0.6087\n",
      "Epoch 9, Train Loss: 1.0308, Val Loss: 1.0242, Train Accuracy: 0.6250, Val Accuracy: 0.6087\n",
      "Epoch 10, Train Loss: 1.0239, Val Loss: 1.0164, Train Accuracy: 0.6250, Val Accuracy: 0.6087\n",
      "Epoch 11, Train Loss: 1.0163, Val Loss: 1.0074, Train Accuracy: 0.6250, Val Accuracy: 0.6087\n",
      "Epoch 12, Train Loss: 1.0084, Val Loss: 0.9967, Train Accuracy: 0.6250, Val Accuracy: 0.6087\n",
      "Epoch 13, Train Loss: 0.9984, Val Loss: 0.9841, Train Accuracy: 0.6250, Val Accuracy: 0.6087\n",
      "Epoch 14, Train Loss: 0.9834, Val Loss: 0.9704, Train Accuracy: 0.6250, Val Accuracy: 0.6087\n",
      "Epoch 15, Train Loss: 0.9712, Val Loss: 0.9560, Train Accuracy: 0.6250, Val Accuracy: 0.6087\n",
      "Epoch 16, Train Loss: 0.9619, Val Loss: 0.9408, Train Accuracy: 0.6250, Val Accuracy: 0.6087\n",
      "Epoch 17, Train Loss: 0.9468, Val Loss: 0.9265, Train Accuracy: 0.6250, Val Accuracy: 0.6087\n",
      "Epoch 18, Train Loss: 0.9319, Val Loss: 0.9143, Train Accuracy: 0.6250, Val Accuracy: 0.6087\n",
      "Epoch 19, Train Loss: 0.9197, Val Loss: 0.9056, Train Accuracy: 0.6250, Val Accuracy: 0.6087\n",
      "Epoch 20, Train Loss: 0.9122, Val Loss: 0.9013, Train Accuracy: 0.6250, Val Accuracy: 0.6087\n",
      "Epoch 21, Train Loss: 0.9117, Val Loss: 0.9010, Train Accuracy: 0.6250, Val Accuracy: 0.6087\n",
      "Epoch 22, Train Loss: 0.9103, Val Loss: 0.9028, Train Accuracy: 0.6250, Val Accuracy: 0.6087\n",
      "Epoch 23, Train Loss: 0.9050, Val Loss: 0.9039, Train Accuracy: 0.6250, Val Accuracy: 0.6087\n",
      "Epoch 24, Train Loss: 0.9100, Val Loss: 0.9042, Train Accuracy: 0.6250, Val Accuracy: 0.6087\n",
      "Epoch 25, Train Loss: 0.9098, Val Loss: 0.9033, Train Accuracy: 0.6250, Val Accuracy: 0.6087\n",
      "Epoch 26, Train Loss: 0.9070, Val Loss: 0.9019, Train Accuracy: 0.6250, Val Accuracy: 0.6087\n",
      "Epoch 27, Train Loss: 0.9107, Val Loss: 0.9011, Train Accuracy: 0.6250, Val Accuracy: 0.6087\n",
      "Epoch 28, Train Loss: 0.9104, Val Loss: 0.9006, Train Accuracy: 0.6250, Val Accuracy: 0.6087\n",
      "Epoch 29, Train Loss: 0.9061, Val Loss: 0.9002, Train Accuracy: 0.6250, Val Accuracy: 0.6087\n",
      "Epoch 30, Train Loss: 0.9059, Val Loss: 0.9000, Train Accuracy: 0.6250, Val Accuracy: 0.6087\n",
      "Epoch 31, Train Loss: 0.9108, Val Loss: 0.9000, Train Accuracy: 0.6250, Val Accuracy: 0.6087\n",
      "Epoch 32, Train Loss: 0.9051, Val Loss: 0.9000, Train Accuracy: 0.6250, Val Accuracy: 0.6087\n",
      "Epoch 33, Train Loss: 0.9084, Val Loss: 0.8999, Train Accuracy: 0.6250, Val Accuracy: 0.6087\n",
      "Epoch 34, Train Loss: 0.9000, Val Loss: 0.8999, Train Accuracy: 0.6250, Val Accuracy: 0.6087\n",
      "Epoch 35, Train Loss: 0.9088, Val Loss: 0.8999, Train Accuracy: 0.6250, Val Accuracy: 0.6087\n",
      "Epoch 36, Train Loss: 0.9098, Val Loss: 0.8999, Train Accuracy: 0.6250, Val Accuracy: 0.6087\n",
      "Epoch 37, Train Loss: 0.9059, Val Loss: 0.9000, Train Accuracy: 0.6250, Val Accuracy: 0.6087\n",
      "Epoch 38, Train Loss: 0.9076, Val Loss: 0.8999, Train Accuracy: 0.6250, Val Accuracy: 0.6087\n",
      "Epoch 39, Train Loss: 0.9073, Val Loss: 0.8999, Train Accuracy: 0.6250, Val Accuracy: 0.6087\n",
      "Epoch 40, Train Loss: 0.9054, Val Loss: 0.8998, Train Accuracy: 0.6250, Val Accuracy: 0.6087\n",
      "Epoch 41, Train Loss: 0.9038, Val Loss: 0.8996, Train Accuracy: 0.6250, Val Accuracy: 0.6087\n",
      "Epoch 42, Train Loss: 0.9029, Val Loss: 0.8995, Train Accuracy: 0.6250, Val Accuracy: 0.6087\n",
      "Epoch 43, Train Loss: 0.9095, Val Loss: 0.8995, Train Accuracy: 0.6250, Val Accuracy: 0.6087\n",
      "Epoch 44, Train Loss: 0.9051, Val Loss: 0.8994, Train Accuracy: 0.6250, Val Accuracy: 0.6087\n",
      "Epoch 45, Train Loss: 0.9066, Val Loss: 0.8995, Train Accuracy: 0.6250, Val Accuracy: 0.6087\n",
      "Epoch 46, Train Loss: 0.9088, Val Loss: 0.8995, Train Accuracy: 0.6250, Val Accuracy: 0.6087\n",
      "Epoch 47, Train Loss: 0.9065, Val Loss: 0.8996, Train Accuracy: 0.6250, Val Accuracy: 0.6087\n",
      "Epoch 48, Train Loss: 0.9034, Val Loss: 0.8993, Train Accuracy: 0.6250, Val Accuracy: 0.6087\n",
      "Epoch 49, Train Loss: 0.9017, Val Loss: 0.8992, Train Accuracy: 0.6250, Val Accuracy: 0.6087\n",
      "Epoch 50, Train Loss: 0.9025, Val Loss: 0.8991, Train Accuracy: 0.6250, Val Accuracy: 0.6087\n"
     ]
    }
   ],
   "source": [
    "# Training Loop\n",
    "for epoch in range(50):\n",
    "    # Training Phase\n",
    "    model.train()\n",
    "    running_train_loss = 0.0\n",
    "    correct_train = 0\n",
    "    total_train = 0\n",
    "    for X_batch, y_batch in train_loader:\n",
    "        optimizer.zero_grad()\n",
    "        outputs = model(X_batch)\n",
    "        loss = criterion(outputs, y_batch)\n",
    "        loss.backward()\n",
    "        optimizer.step()\n",
    "        running_train_loss += loss.item()\n",
    "        \n",
    "        # Calculate training accuracy\n",
    "        _, preds = torch.max(outputs, 1)\n",
    "        correct_train += (preds == y_batch).sum().item()\n",
    "        total_train += y_batch.size(0)\n",
    "    \n",
    "    train_accuracy = correct_train / total_train\n",
    "    train_losses.append(running_train_loss / len(train_loader))\n",
    "    train_accuracies.append(train_accuracy)\n",
    "    \n",
    "    # Validation Phase\n",
    "    model.eval()\n",
    "    running_val_loss = 0.0\n",
    "    correct_val = 0\n",
    "    total_val = 0\n",
    "    all_preds = []\n",
    "    all_labels = []\n",
    "    \n",
    "    with torch.no_grad():\n",
    "        for X_batch, y_batch in val_loader:\n",
    "            outputs = model(X_batch)\n",
    "            loss = criterion(outputs, y_batch)\n",
    "            running_val_loss += loss.item()\n",
    "            \n",
    "            # Calculate validation accuracy\n",
    "            _, preds = torch.max(outputs, 1)\n",
    "            correct_val += (preds == y_batch).sum().item()\n",
    "            total_val += y_batch.size(0)\n",
    "            \n",
    "            # Collect predictions and labels for evaluation\n",
    "            all_preds.extend(preds.cpu().numpy())\n",
    "            all_labels.extend(y_batch.cpu().numpy())\n",
    "    \n",
    "    val_accuracy = correct_val / total_val\n",
    "    val_losses.append(running_val_loss / len(val_loader))\n",
    "    val_accuracies.append(val_accuracy)\n",
    "    \n",
    "    print(f\"Epoch {epoch+1}, Train Loss: {train_losses[-1]:.4f}, Val Loss: {val_losses[-1]:.4f}, Train Accuracy: {train_accuracies[-1]:.4f}, Val Accuracy: {val_accuracies[-1]:.4f}\")\n"
   ]
  },
  {
   "cell_type": "code",
   "execution_count": 38,
   "metadata": {},
   "outputs": [
    {
     "name": "stdout",
     "output_type": "stream",
     "text": [
      "\n",
      "Final Evaluation on Validation Set\n",
      "Classification Report:\n",
      "              precision    recall  f1-score   support\n",
      "\n",
      "     Control       0.00      0.00      0.00         4\n",
      "       Covid       0.61      1.00      0.76        14\n",
      "   Recovered       0.00      0.00      0.00         5\n",
      "\n",
      "    accuracy                           0.61        23\n",
      "   macro avg       0.20      0.33      0.25        23\n",
      "weighted avg       0.37      0.61      0.46        23\n",
      "\n"
     ]
    },
    {
     "name": "stderr",
     "output_type": "stream",
     "text": [
      "/opt/miniconda3/envs/nndl/lib/python3.11/site-packages/sklearn/metrics/_classification.py:1531: UndefinedMetricWarning: Precision is ill-defined and being set to 0.0 in labels with no predicted samples. Use `zero_division` parameter to control this behavior.\n",
      "  _warn_prf(average, modifier, f\"{metric.capitalize()} is\", len(result))\n",
      "/opt/miniconda3/envs/nndl/lib/python3.11/site-packages/sklearn/metrics/_classification.py:1531: UndefinedMetricWarning: Precision is ill-defined and being set to 0.0 in labels with no predicted samples. Use `zero_division` parameter to control this behavior.\n",
      "  _warn_prf(average, modifier, f\"{metric.capitalize()} is\", len(result))\n",
      "/opt/miniconda3/envs/nndl/lib/python3.11/site-packages/sklearn/metrics/_classification.py:1531: UndefinedMetricWarning: Precision is ill-defined and being set to 0.0 in labels with no predicted samples. Use `zero_division` parameter to control this behavior.\n",
      "  _warn_prf(average, modifier, f\"{metric.capitalize()} is\", len(result))\n"
     ]
    }
   ],
   "source": [
    "print(\"\\nFinal Evaluation on Validation Set\")\n",
    "print(\"Classification Report:\")\n",
    "print(classification_report(all_labels, all_preds, target_names=['Control', 'Covid', 'Recovered']))"
   ]
  },
  {
   "cell_type": "code",
   "execution_count": 39,
   "metadata": {},
   "outputs": [
    {
     "data": {
      "image/png": "[encoded data removed]",
      "text/plain": [
       "<Figure size 1000x500 with 1 Axes>"
      ]
     },
     "metadata": {},
     "output_type": "display_data"
    }
   ],
   "source": [
    "# Plot Training and Validation Loss\n",
    "plt.figure(figsize=(10, 5))\n",
    "plt.plot(range(1, len(train_losses) + 1), train_losses, label='Train Loss')\n",
    "plt.plot(range(1, len(val_losses) + 1), val_losses, label='Validation Loss')\n",
    "plt.xlabel('Epoch')\n",
    "plt.ylabel('Loss')\n",
    "plt.title('Training and Validation Loss')\n",
    "plt.legend()\n",
    "plt.show()"
   ]
  },
  {
   "cell_type": "code",
   "execution_count": 40,
   "metadata": {},
   "outputs": [
    {
     "data": {
      "image/png": "[encoded data removed]",
      "text/plain": [
       "<Figure size 1000x500 with 1 Axes>"
      ]
     },
     "metadata": {},
     "output_type": "display_data"
    }
   ],
   "source": [
    "# Plot Training and Validation Accuracy\n",
    "plt.figure(figsize=(10, 5))\n",
    "plt.plot(range(1, len(train_accuracies) + 1), train_accuracies, label='Train Accuracy')\n",
    "plt.plot(range(1, len(val_accuracies) + 1), val_accuracies, label='Validation Accuracy')\n",
    "plt.xlabel('Epoch')\n",
    "plt.ylabel('Accuracy')\n",
    "plt.title('Training and Validation Accuracy')\n",
    "plt.legend()\n",
    "plt.show()"
   ]
  },
  {
   "cell_type": "code",
   "execution_count": 41,
   "metadata": {},
   "outputs": [
    {
     "data": {
      "image/png": "[encoded data removed]",
      "text/plain": [
       "<Figure size 800x600 with 2 Axes>"
      ]
     },
     "metadata": {},
     "output_type": "display_data"
    }
   ],
   "source": [
    "# Confusion Matrix\n",
    "cm = confusion_matrix(all_labels, all_preds)\n",
    "plt.figure(figsize=(8, 6))\n",
    "sns.heatmap(cm, annot=True, fmt=\"d\", cmap=\"Blues\", xticklabels=['Control', 'Covid', 'Recovered'], yticklabels=['Control', 'Covid', 'Recovered'])\n",
    "plt.xlabel('Predicted Labels')\n",
    "plt.ylabel('True Labels')\n",
    "plt.title('Confusion Matrix')\n",
    "plt.show()"
   ]
  }
 ],
 "metadata": {
  "kernelspec": {
   "display_name": "nndl",
   "language": "python",
   "name": "python3"
  },
  "language_info": {
   "codemirror_mode": {
    "name": "ipython",
    "version": 3
   },
   "file_extension": ".py",
   "mimetype": "text/x-python",
   "name": "python",
   "nbconvert_exporter": "python",
   "pygments_lexer": "ipython3",
   "version": "3.11.9"
  }
 },
 "nbformat": 4,
 "nbformat_minor": 2
}
