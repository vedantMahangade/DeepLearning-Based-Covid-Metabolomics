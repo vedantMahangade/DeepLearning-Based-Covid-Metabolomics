{
 "cells": [
  {
   "cell_type": "code",
   "execution_count": 70,
   "metadata": {},
   "outputs": [],
   "source": [
    "# import required libraries\n",
    "import numpy as np\n",
    "import pandas as pd\n",
    "import seaborn as sns\n",
    "import tensorflow as tf\n",
    "import matplotlib.pyplot as plt\n",
    "from sklearn.model_selection import train_test_split\n",
    "from sklearn.utils.class_weight import compute_class_weight\n",
    "from sklearn.preprocessing import StandardScaler, LabelEncoder\n",
    "from sklearn.metrics import classification_report, confusion_matrix"
   ]
  },
  {
   "cell_type": "markdown",
   "metadata": {},
   "source": [
    "## Import & Prepare data"
   ]
  },
  {
   "cell_type": "code",
   "execution_count": 71,
   "metadata": {},
   "outputs": [],
   "source": [
    "data = pd.read_csv('../data/covid19_metabolites.csv')"
   ]
  },
  {
   "cell_type": "code",
   "execution_count": 72,
   "metadata": {},
   "outputs": [
    {
     "data": {
      "text/html": [
       "<div>\n",
       "<style scoped>\n",
       "    .dataframe tbody tr th:only-of-type {\n",
       "        vertical-align: middle;\n",
       "    }\n",
       "\n",
       "    .dataframe tbody tr th {\n",
       "        vertical-align: top;\n",
       "    }\n",
       "\n",
       "    .dataframe thead th {\n",
       "        text-align: right;\n",
       "    }\n",
       "</style>\n",
       "<table border=\"1\" class=\"dataframe\">\n",
       "  <thead>\n",
       "    <tr style=\"text-align: right;\">\n",
       "      <th></th>\n",
       "      <th>SubjectId</th>\n",
       "      <th>Group</th>\n",
       "      <th>Sex</th>\n",
       "      <th>Age</th>\n",
       "      <th>Creatinine</th>\n",
       "      <th>Glycine</th>\n",
       "      <th>Alanine</th>\n",
       "      <th>Serine</th>\n",
       "      <th>Proline</th>\n",
       "      <th>Valine</th>\n",
       "      <th>...</th>\n",
       "      <th>Hydroxybutyrylcarnitine</th>\n",
       "      <th>Octanoylcarnitine</th>\n",
       "      <th>Decadienoylcarnitine</th>\n",
       "      <th>Decenoylcarnitine</th>\n",
       "      <th>Decanoylcarnitine</th>\n",
       "      <th>Dodecenoylcarnitine</th>\n",
       "      <th>Dodecanoylcarnitine</th>\n",
       "      <th>Hexadecanoylcarnitine</th>\n",
       "      <th>Octadecadienylcarnitine</th>\n",
       "      <th>Octadecenoylcarnitine</th>\n",
       "    </tr>\n",
       "  </thead>\n",
       "  <tbody>\n",
       "    <tr>\n",
       "      <th>0</th>\n",
       "      <td>CV19-0007A</td>\n",
       "      <td>Control</td>\n",
       "      <td>Female</td>\n",
       "      <td>68.0</td>\n",
       "      <td>166.0</td>\n",
       "      <td>230.0</td>\n",
       "      <td>236.0</td>\n",
       "      <td>117.0</td>\n",
       "      <td>151.0</td>\n",
       "      <td>170.0</td>\n",
       "      <td>...</td>\n",
       "      <td>0.2001</td>\n",
       "      <td>0.1216</td>\n",
       "      <td>0.0789</td>\n",
       "      <td>0.2072</td>\n",
       "      <td>0.2437</td>\n",
       "      <td>0.1584</td>\n",
       "      <td>0.1266</td>\n",
       "      <td>0.2262</td>\n",
       "      <td>0.1301</td>\n",
       "      <td>0.2876</td>\n",
       "    </tr>\n",
       "    <tr>\n",
       "      <th>1</th>\n",
       "      <td>CV19-0071A</td>\n",
       "      <td>Control</td>\n",
       "      <td>Female</td>\n",
       "      <td>57.0</td>\n",
       "      <td>67.0</td>\n",
       "      <td>233.0</td>\n",
       "      <td>343.0</td>\n",
       "      <td>89.2</td>\n",
       "      <td>151.0</td>\n",
       "      <td>145.0</td>\n",
       "      <td>...</td>\n",
       "      <td>0.0741</td>\n",
       "      <td>0.2256</td>\n",
       "      <td>0.0695</td>\n",
       "      <td>0.2310</td>\n",
       "      <td>0.3679</td>\n",
       "      <td>0.1526</td>\n",
       "      <td>0.1123</td>\n",
       "      <td>0.1534</td>\n",
       "      <td>0.1190</td>\n",
       "      <td>0.2378</td>\n",
       "    </tr>\n",
       "    <tr>\n",
       "      <th>2</th>\n",
       "      <td>CV19-0079A</td>\n",
       "      <td>Control</td>\n",
       "      <td>Male</td>\n",
       "      <td>39.0</td>\n",
       "      <td>69.2</td>\n",
       "      <td>250.0</td>\n",
       "      <td>371.0</td>\n",
       "      <td>129.0</td>\n",
       "      <td>175.0</td>\n",
       "      <td>207.0</td>\n",
       "      <td>...</td>\n",
       "      <td>0.0416</td>\n",
       "      <td>0.0951</td>\n",
       "      <td>0.0996</td>\n",
       "      <td>0.1439</td>\n",
       "      <td>0.1661</td>\n",
       "      <td>0.0977</td>\n",
       "      <td>0.0860</td>\n",
       "      <td>0.2005</td>\n",
       "      <td>0.1604</td>\n",
       "      <td>0.3066</td>\n",
       "    </tr>\n",
       "    <tr>\n",
       "      <th>3</th>\n",
       "      <td>CV19-0118A</td>\n",
       "      <td>Control</td>\n",
       "      <td>Female</td>\n",
       "      <td>40.0</td>\n",
       "      <td>54.2</td>\n",
       "      <td>190.0</td>\n",
       "      <td>415.0</td>\n",
       "      <td>103.0</td>\n",
       "      <td>165.0</td>\n",
       "      <td>149.0</td>\n",
       "      <td>...</td>\n",
       "      <td>0.0291</td>\n",
       "      <td>0.2326</td>\n",
       "      <td>0.0705</td>\n",
       "      <td>0.2509</td>\n",
       "      <td>0.3039</td>\n",
       "      <td>0.1262</td>\n",
       "      <td>0.0775</td>\n",
       "      <td>0.0983</td>\n",
       "      <td>0.0702</td>\n",
       "      <td>0.1598</td>\n",
       "    </tr>\n",
       "    <tr>\n",
       "      <th>4</th>\n",
       "      <td>CV19-0125A</td>\n",
       "      <td>Control</td>\n",
       "      <td>Female</td>\n",
       "      <td>40.0</td>\n",
       "      <td>63.1</td>\n",
       "      <td>189.0</td>\n",
       "      <td>373.0</td>\n",
       "      <td>94.5</td>\n",
       "      <td>167.0</td>\n",
       "      <td>158.0</td>\n",
       "      <td>...</td>\n",
       "      <td>0.0592</td>\n",
       "      <td>0.1857</td>\n",
       "      <td>0.0709</td>\n",
       "      <td>0.2856</td>\n",
       "      <td>0.3549</td>\n",
       "      <td>0.1938</td>\n",
       "      <td>0.1446</td>\n",
       "      <td>0.1281</td>\n",
       "      <td>0.0998</td>\n",
       "      <td>0.2283</td>\n",
       "    </tr>\n",
       "    <tr>\n",
       "      <th>...</th>\n",
       "      <td>...</td>\n",
       "      <td>...</td>\n",
       "      <td>...</td>\n",
       "      <td>...</td>\n",
       "      <td>...</td>\n",
       "      <td>...</td>\n",
       "      <td>...</td>\n",
       "      <td>...</td>\n",
       "      <td>...</td>\n",
       "      <td>...</td>\n",
       "      <td>...</td>\n",
       "      <td>...</td>\n",
       "      <td>...</td>\n",
       "      <td>...</td>\n",
       "      <td>...</td>\n",
       "      <td>...</td>\n",
       "      <td>...</td>\n",
       "      <td>...</td>\n",
       "      <td>...</td>\n",
       "      <td>...</td>\n",
       "      <td>...</td>\n",
       "    </tr>\n",
       "    <tr>\n",
       "      <th>226</th>\n",
       "      <td>CV19-0830A</td>\n",
       "      <td>Covid</td>\n",
       "      <td>Female</td>\n",
       "      <td>51.0</td>\n",
       "      <td>89.9</td>\n",
       "      <td>117.0</td>\n",
       "      <td>273.0</td>\n",
       "      <td>58.3</td>\n",
       "      <td>125.0</td>\n",
       "      <td>245.0</td>\n",
       "      <td>...</td>\n",
       "      <td>0.1570</td>\n",
       "      <td>0.1348</td>\n",
       "      <td>0.1569</td>\n",
       "      <td>0.2186</td>\n",
       "      <td>0.4441</td>\n",
       "      <td>0.1232</td>\n",
       "      <td>0.0938</td>\n",
       "      <td>0.1326</td>\n",
       "      <td>0.1060</td>\n",
       "      <td>0.2467</td>\n",
       "    </tr>\n",
       "    <tr>\n",
       "      <th>227</th>\n",
       "      <td>CV19-0833A</td>\n",
       "      <td>Covid</td>\n",
       "      <td>Male</td>\n",
       "      <td>65.0</td>\n",
       "      <td>112.0</td>\n",
       "      <td>162.0</td>\n",
       "      <td>497.0</td>\n",
       "      <td>88.7</td>\n",
       "      <td>111.0</td>\n",
       "      <td>275.0</td>\n",
       "      <td>...</td>\n",
       "      <td>0.0738</td>\n",
       "      <td>0.2481</td>\n",
       "      <td>0.1557</td>\n",
       "      <td>0.3837</td>\n",
       "      <td>0.6554</td>\n",
       "      <td>0.1521</td>\n",
       "      <td>0.0903</td>\n",
       "      <td>0.1158</td>\n",
       "      <td>0.0797</td>\n",
       "      <td>0.1718</td>\n",
       "    </tr>\n",
       "    <tr>\n",
       "      <th>228</th>\n",
       "      <td>CV19-0834A</td>\n",
       "      <td>Covid</td>\n",
       "      <td>Male</td>\n",
       "      <td>66.0</td>\n",
       "      <td>114.0</td>\n",
       "      <td>181.0</td>\n",
       "      <td>574.0</td>\n",
       "      <td>90.8</td>\n",
       "      <td>206.0</td>\n",
       "      <td>247.0</td>\n",
       "      <td>...</td>\n",
       "      <td>0.1481</td>\n",
       "      <td>0.2395</td>\n",
       "      <td>0.1776</td>\n",
       "      <td>0.3464</td>\n",
       "      <td>0.3441</td>\n",
       "      <td>0.2043</td>\n",
       "      <td>0.1211</td>\n",
       "      <td>0.1922</td>\n",
       "      <td>0.1354</td>\n",
       "      <td>0.3183</td>\n",
       "    </tr>\n",
       "    <tr>\n",
       "      <th>229</th>\n",
       "      <td>CV19-0932A</td>\n",
       "      <td>Covid</td>\n",
       "      <td>Male</td>\n",
       "      <td>53.0</td>\n",
       "      <td>68.3</td>\n",
       "      <td>321.0</td>\n",
       "      <td>551.0</td>\n",
       "      <td>163.0</td>\n",
       "      <td>219.0</td>\n",
       "      <td>552.0</td>\n",
       "      <td>...</td>\n",
       "      <td>1.0753</td>\n",
       "      <td>0.3273</td>\n",
       "      <td>0.1791</td>\n",
       "      <td>0.4793</td>\n",
       "      <td>0.5729</td>\n",
       "      <td>0.2027</td>\n",
       "      <td>0.1921</td>\n",
       "      <td>0.1784</td>\n",
       "      <td>0.1350</td>\n",
       "      <td>0.3122</td>\n",
       "    </tr>\n",
       "    <tr>\n",
       "      <th>230</th>\n",
       "      <td>CV19-0936A</td>\n",
       "      <td>Covid</td>\n",
       "      <td>Male</td>\n",
       "      <td>66.0</td>\n",
       "      <td>101.0</td>\n",
       "      <td>216.0</td>\n",
       "      <td>543.0</td>\n",
       "      <td>101.0</td>\n",
       "      <td>89.5</td>\n",
       "      <td>273.0</td>\n",
       "      <td>...</td>\n",
       "      <td>0.0655</td>\n",
       "      <td>0.1934</td>\n",
       "      <td>0.1900</td>\n",
       "      <td>0.2726</td>\n",
       "      <td>0.3561</td>\n",
       "      <td>0.0964</td>\n",
       "      <td>0.0694</td>\n",
       "      <td>0.0953</td>\n",
       "      <td>0.0675</td>\n",
       "      <td>0.1611</td>\n",
       "    </tr>\n",
       "  </tbody>\n",
       "</table>\n",
       "<p>231 rows × 111 columns</p>\n",
       "</div>"
      ],
      "text/plain": [
       "      SubjectId    Group     Sex   Age  Creatinine  Glycine  Alanine  Serine  \\\n",
       "0    CV19-0007A  Control  Female  68.0       166.0    230.0    236.0   117.0   \n",
       "1    CV19-0071A  Control  Female  57.0        67.0    233.0    343.0    89.2   \n",
       "2    CV19-0079A  Control    Male  39.0        69.2    250.0    371.0   129.0   \n",
       "3    CV19-0118A  Control  Female  40.0        54.2    190.0    415.0   103.0   \n",
       "4    CV19-0125A  Control  Female  40.0        63.1    189.0    373.0    94.5   \n",
       "..          ...      ...     ...   ...         ...      ...      ...     ...   \n",
       "226  CV19-0830A    Covid  Female  51.0        89.9    117.0    273.0    58.3   \n",
       "227  CV19-0833A    Covid    Male  65.0       112.0    162.0    497.0    88.7   \n",
       "228  CV19-0834A    Covid    Male  66.0       114.0    181.0    574.0    90.8   \n",
       "229  CV19-0932A    Covid    Male  53.0        68.3    321.0    551.0   163.0   \n",
       "230  CV19-0936A    Covid    Male  66.0       101.0    216.0    543.0   101.0   \n",
       "\n",
       "     Proline  Valine  ...  Hydroxybutyrylcarnitine  Octanoylcarnitine  \\\n",
       "0      151.0   170.0  ...                   0.2001             0.1216   \n",
       "1      151.0   145.0  ...                   0.0741             0.2256   \n",
       "2      175.0   207.0  ...                   0.0416             0.0951   \n",
       "3      165.0   149.0  ...                   0.0291             0.2326   \n",
       "4      167.0   158.0  ...                   0.0592             0.1857   \n",
       "..       ...     ...  ...                      ...                ...   \n",
       "226    125.0   245.0  ...                   0.1570             0.1348   \n",
       "227    111.0   275.0  ...                   0.0738             0.2481   \n",
       "228    206.0   247.0  ...                   0.1481             0.2395   \n",
       "229    219.0   552.0  ...                   1.0753             0.3273   \n",
       "230     89.5   273.0  ...                   0.0655             0.1934   \n",
       "\n",
       "     Decadienoylcarnitine  Decenoylcarnitine  Decanoylcarnitine  \\\n",
       "0                  0.0789             0.2072             0.2437   \n",
       "1                  0.0695             0.2310             0.3679   \n",
       "2                  0.0996             0.1439             0.1661   \n",
       "3                  0.0705             0.2509             0.3039   \n",
       "4                  0.0709             0.2856             0.3549   \n",
       "..                    ...                ...                ...   \n",
       "226                0.1569             0.2186             0.4441   \n",
       "227                0.1557             0.3837             0.6554   \n",
       "228                0.1776             0.3464             0.3441   \n",
       "229                0.1791             0.4793             0.5729   \n",
       "230                0.1900             0.2726             0.3561   \n",
       "\n",
       "     Dodecenoylcarnitine  Dodecanoylcarnitine  Hexadecanoylcarnitine  \\\n",
       "0                 0.1584               0.1266                 0.2262   \n",
       "1                 0.1526               0.1123                 0.1534   \n",
       "2                 0.0977               0.0860                 0.2005   \n",
       "3                 0.1262               0.0775                 0.0983   \n",
       "4                 0.1938               0.1446                 0.1281   \n",
       "..                   ...                  ...                    ...   \n",
       "226               0.1232               0.0938                 0.1326   \n",
       "227               0.1521               0.0903                 0.1158   \n",
       "228               0.2043               0.1211                 0.1922   \n",
       "229               0.2027               0.1921                 0.1784   \n",
       "230               0.0964               0.0694                 0.0953   \n",
       "\n",
       "     Octadecadienylcarnitine  Octadecenoylcarnitine  \n",
       "0                     0.1301                 0.2876  \n",
       "1                     0.1190                 0.2378  \n",
       "2                     0.1604                 0.3066  \n",
       "3                     0.0702                 0.1598  \n",
       "4                     0.0998                 0.2283  \n",
       "..                       ...                    ...  \n",
       "226                   0.1060                 0.2467  \n",
       "227                   0.0797                 0.1718  \n",
       "228                   0.1354                 0.3183  \n",
       "229                   0.1350                 0.3122  \n",
       "230                   0.0675                 0.1611  \n",
       "\n",
       "[231 rows x 111 columns]"
      ]
     },
     "execution_count": 72,
     "metadata": {},
     "output_type": "execute_result"
    }
   ],
   "source": [
    "data"
   ]
  },
  {
   "cell_type": "markdown",
   "metadata": {},
   "source": [
    "### Encoding the target varable"
   ]
  },
  {
   "cell_type": "code",
   "execution_count": 73,
   "metadata": {},
   "outputs": [
    {
     "name": "stdout",
     "output_type": "stream",
     "text": [
      "Patient classes in data: {'Control', 'Covid'}\n"
     ]
    }
   ],
   "source": [
    "print(\"Patient classes in data:\", set(data[\"Group\"]))"
   ]
  },
  {
   "cell_type": "code",
   "execution_count": 74,
   "metadata": {},
   "outputs": [],
   "source": [
    "# Split features\n",
    "X = data.iloc[:, 2:]"
   ]
  },
  {
   "cell_type": "code",
   "execution_count": 75,
   "metadata": {},
   "outputs": [],
   "source": [
    "# Initialize the LabelEncoder\n",
    "label_encoder = LabelEncoder()\n",
    "\n",
    "# encode labels\n",
    "Y = label_encoder.fit_transform(data['Group'])"
   ]
  },
  {
   "cell_type": "code",
   "execution_count": 76,
   "metadata": {},
   "outputs": [
    {
     "data": {
      "text/plain": [
       "{0: 'Control', 1: 'Covid'}"
      ]
     },
     "execution_count": 76,
     "metadata": {},
     "output_type": "execute_result"
    }
   ],
   "source": [
    "dict(zip(list(set(Y)),label_encoder.inverse_transform(list(set(Y)))))"
   ]
  },
  {
   "cell_type": "markdown",
   "metadata": {},
   "source": [
    "### One hot encoding"
   ]
  },
  {
   "cell_type": "code",
   "execution_count": 77,
   "metadata": {},
   "outputs": [
    {
     "data": {
      "text/plain": [
       "{'Female', 'Male'}"
      ]
     },
     "execution_count": 77,
     "metadata": {},
     "output_type": "execute_result"
    }
   ],
   "source": [
    "set(X['Sex'])"
   ]
  },
  {
   "cell_type": "code",
   "execution_count": 78,
   "metadata": {},
   "outputs": [
    {
     "data": {
      "text/html": [
       "<div>\n",
       "<style scoped>\n",
       "    .dataframe tbody tr th:only-of-type {\n",
       "        vertical-align: middle;\n",
       "    }\n",
       "\n",
       "    .dataframe tbody tr th {\n",
       "        vertical-align: top;\n",
       "    }\n",
       "\n",
       "    .dataframe thead th {\n",
       "        text-align: right;\n",
       "    }\n",
       "</style>\n",
       "<table border=\"1\" class=\"dataframe\">\n",
       "  <thead>\n",
       "    <tr style=\"text-align: right;\">\n",
       "      <th></th>\n",
       "      <th>Sex_Female</th>\n",
       "      <th>Sex_Male</th>\n",
       "    </tr>\n",
       "  </thead>\n",
       "  <tbody>\n",
       "    <tr>\n",
       "      <th>0</th>\n",
       "      <td>1.0</td>\n",
       "      <td>0.0</td>\n",
       "    </tr>\n",
       "    <tr>\n",
       "      <th>1</th>\n",
       "      <td>1.0</td>\n",
       "      <td>0.0</td>\n",
       "    </tr>\n",
       "    <tr>\n",
       "      <th>2</th>\n",
       "      <td>0.0</td>\n",
       "      <td>1.0</td>\n",
       "    </tr>\n",
       "    <tr>\n",
       "      <th>3</th>\n",
       "      <td>1.0</td>\n",
       "      <td>0.0</td>\n",
       "    </tr>\n",
       "    <tr>\n",
       "      <th>4</th>\n",
       "      <td>1.0</td>\n",
       "      <td>0.0</td>\n",
       "    </tr>\n",
       "    <tr>\n",
       "      <th>...</th>\n",
       "      <td>...</td>\n",
       "      <td>...</td>\n",
       "    </tr>\n",
       "    <tr>\n",
       "      <th>226</th>\n",
       "      <td>1.0</td>\n",
       "      <td>0.0</td>\n",
       "    </tr>\n",
       "    <tr>\n",
       "      <th>227</th>\n",
       "      <td>0.0</td>\n",
       "      <td>1.0</td>\n",
       "    </tr>\n",
       "    <tr>\n",
       "      <th>228</th>\n",
       "      <td>0.0</td>\n",
       "      <td>1.0</td>\n",
       "    </tr>\n",
       "    <tr>\n",
       "      <th>229</th>\n",
       "      <td>0.0</td>\n",
       "      <td>1.0</td>\n",
       "    </tr>\n",
       "    <tr>\n",
       "      <th>230</th>\n",
       "      <td>0.0</td>\n",
       "      <td>1.0</td>\n",
       "    </tr>\n",
       "  </tbody>\n",
       "</table>\n",
       "<p>231 rows × 2 columns</p>\n",
       "</div>"
      ],
      "text/plain": [
       "     Sex_Female  Sex_Male\n",
       "0           1.0       0.0\n",
       "1           1.0       0.0\n",
       "2           0.0       1.0\n",
       "3           1.0       0.0\n",
       "4           1.0       0.0\n",
       "..          ...       ...\n",
       "226         1.0       0.0\n",
       "227         0.0       1.0\n",
       "228         0.0       1.0\n",
       "229         0.0       1.0\n",
       "230         0.0       1.0\n",
       "\n",
       "[231 rows x 2 columns]"
      ]
     },
     "execution_count": 78,
     "metadata": {},
     "output_type": "execute_result"
    }
   ],
   "source": [
    "# Perform one hot encoding on categorical column\n",
    "X = pd.get_dummies(X, columns=['Sex'], prefix='Sex',dtype = float)\n",
    "X.iloc[:,108:]"
   ]
  },
  {
   "cell_type": "markdown",
   "metadata": {},
   "source": [
    "### Train/Test split"
   ]
  },
  {
   "cell_type": "code",
   "execution_count": 79,
   "metadata": {},
   "outputs": [
    {
     "name": "stdout",
     "output_type": "stream",
     "text": [
      "(231, 110)\n",
      "[0 0 0 0 0 0 0 0 0 0 0 0 0 0 0 0 0 0 0 0 0 0 0 0 0 0 0 0 0 0 0 0 0 0 0 0 0\n",
      " 0 1 1 1 1 1 1 1 1 1 1 1 1 1 1 1 1 1 1 1 1 1 1 0 0 0 0 0 0 0 0 0 0 0 0 0 0\n",
      " 0 0 0 0 0 0 0 0 0 0 0 0 0 0 0 0 0 0 0 0 0 0 0 0 0 0 0 0 0 0 0 0 0 0 0 1 1\n",
      " 1 1 1 1 1 1 1 1 1 1 1 1 1 1 1 1 1 1 1 1 1 1 1 1 1 1 1 1 1 1 1 1 1 1 1 1 1\n",
      " 1 1 1 1 1 1 1 1 1 1 1 1 1 1 1 1 1 1 1 1 1 1 1 1 1 1 1 1 1 1 1 1 1 1 1 1 1\n",
      " 1 1 1 1 1 1 1 1 1 1 1 1 1 1 1 1 1 1 1 1 1 1 1 1 1 1 1 1 1 1 1 1 1 1 1 1 1\n",
      " 1 1 1 1 1 1 1 1 1]\n"
     ]
    }
   ],
   "source": [
    "print(X.shape)\n",
    "print(Y)"
   ]
  },
  {
   "cell_type": "code",
   "execution_count": 80,
   "metadata": {},
   "outputs": [],
   "source": [
    "# Split dataset into 70% Train, 15% Test and ~15% Val\n",
    "# stratify=Y ensures each class in splits\n",
    "X_train, X_test, Y_train, Y_test = train_test_split(X, Y, test_size=0.15, random_state=42, stratify=Y) \n",
    "X_train, X_val, Y_train, Y_val = train_test_split(X_train, Y_train, test_size=0.15, random_state=42, stratify=Y_train)"
   ]
  },
  {
   "cell_type": "code",
   "execution_count": 81,
   "metadata": {},
   "outputs": [
    {
     "name": "stdout",
     "output_type": "stream",
     "text": [
      "Train Size: 166\n",
      "Val Size: 30\n",
      "Test Size: 35\n"
     ]
    }
   ],
   "source": [
    "print('Train Size:', len(X_train))\n",
    "print('Val Size:',len(X_val))\n",
    "print('Test Size:',len(X_test))"
   ]
  },
  {
   "cell_type": "markdown",
   "metadata": {},
   "source": [
    "### Normalize data"
   ]
  },
  {
   "cell_type": "code",
   "execution_count": 82,
   "metadata": {},
   "outputs": [],
   "source": [
    "# Normalize all metabolite and age columns, ignore the sex column\n",
    "scaler = StandardScaler()\n",
    "X_train.iloc[:, :-2] = scaler.fit_transform(X_train.iloc[:, :-2])\n",
    "X_val.iloc[:, :-2] = scaler.transform(X_val.iloc[:, :-2])\n",
    "X_test.iloc[:, :-2] = scaler.transform(X_test.iloc[:, :-2])"
   ]
  },
  {
   "cell_type": "code",
   "execution_count": 83,
   "metadata": {},
   "outputs": [
    {
     "data": {
      "text/plain": [
       "Index(['Age', 'Creatinine', 'Glycine', 'Alanine', 'Serine', 'Proline',\n",
       "       'Valine', 'Threonine', 'Taurine', 'Putrescine',\n",
       "       ...\n",
       "       'Decadienoylcarnitine', 'Decenoylcarnitine', 'Decanoylcarnitine',\n",
       "       'Dodecenoylcarnitine', 'Dodecanoylcarnitine', 'Hexadecanoylcarnitine',\n",
       "       'Octadecadienylcarnitine', 'Octadecenoylcarnitine', 'Sex_Female',\n",
       "       'Sex_Male'],\n",
       "      dtype='object', length=110)"
      ]
     },
     "execution_count": 83,
     "metadata": {},
     "output_type": "execute_result"
    }
   ],
   "source": [
    "X_train.columns"
   ]
  },
  {
   "cell_type": "markdown",
   "metadata": {},
   "source": [
    "### Prepare tensorflow datasets"
   ]
  },
  {
   "cell_type": "code",
   "execution_count": 84,
   "metadata": {},
   "outputs": [],
   "source": [
    "# Convert to TensorFlow datasets\n",
    "train_dataset = tf.data.Dataset.from_tensor_slices((X_train, Y_train))\n",
    "val_dataset = tf.data.Dataset.from_tensor_slices((X_val, Y_val))\n",
    "test_dataset = tf.data.Dataset.from_tensor_slices((X_test, Y_test))\n",
    "\n",
    "# Shuffle, batch, and prefetch for efficiency\n",
    "batch_size = 32\n",
    "train_dataset = train_dataset.shuffle(buffer_size=1000).batch(batch_size).prefetch(tf.data.AUTOTUNE)\n",
    "val_dataset = val_dataset.batch(batch_size).prefetch(tf.data.AUTOTUNE)\n",
    "test_dataset = test_dataset.batch(batch_size).prefetch(tf.data.AUTOTUNE)"
   ]
  },
  {
   "cell_type": "markdown",
   "metadata": {},
   "source": [
    "## Train custom CNN"
   ]
  },
  {
   "cell_type": "code",
   "execution_count": 185,
   "metadata": {},
   "outputs": [
    {
     "data": {
      "text/plain": [
       "<module 'metbio1dnet' from '/Users/vedantmahangade/Projects/DeepLearning-Based-Covid-Metabolomics/scripts/metbio1dnet.py'>"
      ]
     },
     "execution_count": 185,
     "metadata": {},
     "output_type": "execute_result"
    }
   ],
   "source": [
    "# Import custom CNN and trainer class\n",
    "import importlib\n",
    "import metbio1dnet\n",
    "importlib.reload(metbio1dnet)"
   ]
  },
  {
   "cell_type": "code",
   "execution_count": 186,
   "metadata": {},
   "outputs": [],
   "source": [
    "# Initialize CNN model\n",
    "model = metbio1dnet.MetaBioClassifier1D()"
   ]
  },
  {
   "cell_type": "code",
   "execution_count": 187,
   "metadata": {},
   "outputs": [
    {
     "name": "stdout",
     "output_type": "stream",
     "text": [
      "Computed Class Weights: {0: 1.3174603174603174, 1: 0.8058252427184466}\n"
     ]
    }
   ],
   "source": [
    "# Compute class weights based on Y_train\n",
    "class_weights = compute_class_weight(\n",
    "    class_weight='balanced',\n",
    "    classes=np.unique(Y_train),\n",
    "    y=Y_train\n",
    ")\n",
    "class_weights_dict = {0: class_weights[0], 1: class_weights[1]}\n",
    "print(\"Computed Class Weights:\", class_weights_dict)"
   ]
  },
  {
   "cell_type": "code",
   "execution_count": 188,
   "metadata": {},
   "outputs": [],
   "source": [
    "# Initialize trainer instance\n",
    "trainer = metbio1dnet.Trainer(\n",
    "    model=model,\n",
    "    train_loader=train_dataset,\n",
    "    val_loader=val_dataset,\n",
    "    optimizer=tf.keras.optimizers.Adam(learning_rate=0.0001)\n",
    "    ,class_weights=class_weights_dict\n",
    ")"
   ]
  },
  {
   "cell_type": "code",
   "execution_count": 189,
   "metadata": {},
   "outputs": [
    {
     "name": "stdout",
     "output_type": "stream",
     "text": [
      "Running Training...\n",
      "Epoch 1/400, Train Loss: 0.7503, Val Loss: 0.6967, Train Accuracy: 0.4337, Val Accuracy: 0.5667\n",
      "Epoch 2/400, Train Loss: 0.7345, Val Loss: 0.6936, Train Accuracy: 0.4759, Val Accuracy: 0.5667\n",
      "Epoch 3/400, Train Loss: 0.7226, Val Loss: 0.6914, Train Accuracy: 0.4759, Val Accuracy: 0.6333\n",
      "Epoch 4/400, Train Loss: 0.6803, Val Loss: 0.6881, Train Accuracy: 0.5723, Val Accuracy: 0.6333\n",
      "Epoch 5/400, Train Loss: 0.7029, Val Loss: 0.6847, Train Accuracy: 0.6386, Val Accuracy: 0.6667\n",
      "Epoch 6/400, Train Loss: 0.6456, Val Loss: 0.6817, Train Accuracy: 0.6566, Val Accuracy: 0.7000\n",
      "Epoch 7/400, Train Loss: 0.6295, Val Loss: 0.6787, Train Accuracy: 0.6988, Val Accuracy: 0.6667\n",
      "Epoch 8/400, Train Loss: 0.6769, Val Loss: 0.6750, Train Accuracy: 0.6325, Val Accuracy: 0.6667\n",
      "Epoch 9/400, Train Loss: 0.6133, Val Loss: 0.6704, Train Accuracy: 0.7048, Val Accuracy: 0.6667\n",
      "Epoch 10/400, Train Loss: 0.5977, Val Loss: 0.6646, Train Accuracy: 0.7229, Val Accuracy: 0.6333\n",
      "Epoch 11/400, Train Loss: 0.5859, Val Loss: 0.6581, Train Accuracy: 0.7108, Val Accuracy: 0.7000\n",
      "Epoch 12/400, Train Loss: 0.5715, Val Loss: 0.6512, Train Accuracy: 0.7651, Val Accuracy: 0.7000\n",
      "Epoch 13/400, Train Loss: 0.5499, Val Loss: 0.6441, Train Accuracy: 0.7831, Val Accuracy: 0.7333\n",
      "Epoch 14/400, Train Loss: 0.5641, Val Loss: 0.6357, Train Accuracy: 0.7711, Val Accuracy: 0.8000\n",
      "Epoch 15/400, Train Loss: 0.5486, Val Loss: 0.6258, Train Accuracy: 0.8133, Val Accuracy: 0.8333\n",
      "Epoch 16/400, Train Loss: 0.5361, Val Loss: 0.6153, Train Accuracy: 0.7831, Val Accuracy: 0.8333\n",
      "Epoch 17/400, Train Loss: 0.4973, Val Loss: 0.6046, Train Accuracy: 0.8434, Val Accuracy: 0.8333\n",
      "Epoch 18/400, Train Loss: 0.4820, Val Loss: 0.5927, Train Accuracy: 0.8614, Val Accuracy: 0.8333\n",
      "Epoch 19/400, Train Loss: 0.4595, Val Loss: 0.5798, Train Accuracy: 0.8735, Val Accuracy: 0.8333\n",
      "Epoch 20/400, Train Loss: 0.4479, Val Loss: 0.5649, Train Accuracy: 0.8675, Val Accuracy: 0.8333\n",
      "Epoch 21/400, Train Loss: 0.4753, Val Loss: 0.5487, Train Accuracy: 0.8735, Val Accuracy: 0.8667\n",
      "Epoch 22/400, Train Loss: 0.4053, Val Loss: 0.5319, Train Accuracy: 0.9036, Val Accuracy: 0.8667\n",
      "Epoch 23/400, Train Loss: 0.4264, Val Loss: 0.5135, Train Accuracy: 0.8976, Val Accuracy: 0.8667\n",
      "Epoch 24/400, Train Loss: 0.3718, Val Loss: 0.4940, Train Accuracy: 0.8855, Val Accuracy: 0.8667\n",
      "Epoch 25/400, Train Loss: 0.3521, Val Loss: 0.4734, Train Accuracy: 0.9518, Val Accuracy: 0.8667\n",
      "Epoch 26/400, Train Loss: 0.3453, Val Loss: 0.4528, Train Accuracy: 0.9277, Val Accuracy: 0.8667\n",
      "Epoch 27/400, Train Loss: 0.3168, Val Loss: 0.4323, Train Accuracy: 0.9337, Val Accuracy: 0.8667\n",
      "Epoch 28/400, Train Loss: 0.2991, Val Loss: 0.4110, Train Accuracy: 0.9458, Val Accuracy: 0.9000\n",
      "Epoch 29/400, Train Loss: 0.2651, Val Loss: 0.3916, Train Accuracy: 0.9398, Val Accuracy: 0.9000\n",
      "Epoch 30/400, Train Loss: 0.2773, Val Loss: 0.3726, Train Accuracy: 0.9458, Val Accuracy: 0.9000\n",
      "Epoch 31/400, Train Loss: 0.2322, Val Loss: 0.3533, Train Accuracy: 0.9337, Val Accuracy: 0.9000\n",
      "Epoch 32/400, Train Loss: 0.1912, Val Loss: 0.3344, Train Accuracy: 0.9578, Val Accuracy: 0.9333\n",
      "Epoch 33/400, Train Loss: 0.2512, Val Loss: 0.3163, Train Accuracy: 0.9277, Val Accuracy: 0.9333\n",
      "Epoch 34/400, Train Loss: 0.2210, Val Loss: 0.2991, Train Accuracy: 0.9759, Val Accuracy: 0.9333\n",
      "Epoch 35/400, Train Loss: 0.1994, Val Loss: 0.2801, Train Accuracy: 0.9639, Val Accuracy: 0.9667\n",
      "Epoch 36/400, Train Loss: 0.2007, Val Loss: 0.2623, Train Accuracy: 0.9578, Val Accuracy: 0.9667\n",
      "Epoch 37/400, Train Loss: 0.2105, Val Loss: 0.2470, Train Accuracy: 0.9578, Val Accuracy: 1.0000\n",
      "Epoch 38/400, Train Loss: 0.1468, Val Loss: 0.2301, Train Accuracy: 0.9819, Val Accuracy: 1.0000\n",
      "Epoch 39/400, Train Loss: 0.1599, Val Loss: 0.2156, Train Accuracy: 0.9819, Val Accuracy: 1.0000\n",
      "Epoch 40/400, Train Loss: 0.1453, Val Loss: 0.2031, Train Accuracy: 0.9699, Val Accuracy: 1.0000\n",
      "Epoch 41/400, Train Loss: 0.1445, Val Loss: 0.1909, Train Accuracy: 0.9639, Val Accuracy: 1.0000\n",
      "Epoch 42/400, Train Loss: 0.1303, Val Loss: 0.1793, Train Accuracy: 0.9940, Val Accuracy: 0.9667\n",
      "Epoch 43/400, Train Loss: 0.2541, Val Loss: 0.1694, Train Accuracy: 0.9819, Val Accuracy: 0.9667\n",
      "Epoch 44/400, Train Loss: 0.1117, Val Loss: 0.1644, Train Accuracy: 0.9819, Val Accuracy: 0.9667\n",
      "Epoch 45/400, Train Loss: 0.1360, Val Loss: 0.1563, Train Accuracy: 0.9759, Val Accuracy: 0.9667\n",
      "Epoch 46/400, Train Loss: 0.0971, Val Loss: 0.1517, Train Accuracy: 0.9940, Val Accuracy: 0.9667\n",
      "Epoch 47/400, Train Loss: 0.0865, Val Loss: 0.1452, Train Accuracy: 0.9880, Val Accuracy: 0.9667\n",
      "Epoch 48/400, Train Loss: 0.2117, Val Loss: 0.1403, Train Accuracy: 0.9699, Val Accuracy: 0.9667\n",
      "Epoch 49/400, Train Loss: 0.0815, Val Loss: 0.1443, Train Accuracy: 0.9940, Val Accuracy: 0.9667\n",
      "Epoch 50/400, Train Loss: 0.0903, Val Loss: 0.1430, Train Accuracy: 0.9759, Val Accuracy: 0.9667\n",
      "Epoch 51/400, Train Loss: 0.1057, Val Loss: 0.1389, Train Accuracy: 0.9699, Val Accuracy: 0.9667\n",
      "Epoch 52/400, Train Loss: 0.0714, Val Loss: 0.1326, Train Accuracy: 0.9880, Val Accuracy: 0.9667\n",
      "Epoch 53/400, Train Loss: 0.0849, Val Loss: 0.1255, Train Accuracy: 1.0000, Val Accuracy: 0.9667\n",
      "Epoch 54/400, Train Loss: 0.0629, Val Loss: 0.1185, Train Accuracy: 0.9880, Val Accuracy: 0.9667\n",
      "Epoch 55/400, Train Loss: 0.1117, Val Loss: 0.1113, Train Accuracy: 0.9880, Val Accuracy: 0.9667\n",
      "Epoch 56/400, Train Loss: 0.0515, Val Loss: 0.1027, Train Accuracy: 0.9940, Val Accuracy: 0.9667\n",
      "Epoch 57/400, Train Loss: 0.0529, Val Loss: 0.0957, Train Accuracy: 0.9940, Val Accuracy: 0.9667\n",
      "Epoch 58/400, Train Loss: 0.1221, Val Loss: 0.0905, Train Accuracy: 0.9819, Val Accuracy: 0.9667\n",
      "Epoch 59/400, Train Loss: 0.0581, Val Loss: 0.0896, Train Accuracy: 0.9940, Val Accuracy: 0.9667\n",
      "Epoch 60/400, Train Loss: 0.0499, Val Loss: 0.0872, Train Accuracy: 0.9940, Val Accuracy: 0.9667\n",
      "Epoch 61/400, Train Loss: 0.0450, Val Loss: 0.0847, Train Accuracy: 1.0000, Val Accuracy: 0.9667\n",
      "Epoch 62/400, Train Loss: 0.0567, Val Loss: 0.0829, Train Accuracy: 1.0000, Val Accuracy: 0.9667\n",
      "Epoch 63/400, Train Loss: 0.0532, Val Loss: 0.0810, Train Accuracy: 0.9940, Val Accuracy: 0.9667\n",
      "Epoch 64/400, Train Loss: 0.0364, Val Loss: 0.0781, Train Accuracy: 1.0000, Val Accuracy: 0.9667\n",
      "Epoch 65/400, Train Loss: 0.0690, Val Loss: 0.0750, Train Accuracy: 0.9940, Val Accuracy: 0.9667\n",
      "Epoch 66/400, Train Loss: 0.0366, Val Loss: 0.0688, Train Accuracy: 1.0000, Val Accuracy: 0.9667\n",
      "Epoch 67/400, Train Loss: 0.0346, Val Loss: 0.0644, Train Accuracy: 1.0000, Val Accuracy: 0.9667\n",
      "Epoch 68/400, Train Loss: 0.0317, Val Loss: 0.0626, Train Accuracy: 0.9940, Val Accuracy: 0.9667\n",
      "Epoch 69/400, Train Loss: 0.0545, Val Loss: 0.0618, Train Accuracy: 0.9940, Val Accuracy: 0.9667\n",
      "Epoch 70/400, Train Loss: 0.0489, Val Loss: 0.0637, Train Accuracy: 0.9940, Val Accuracy: 0.9667\n",
      "Epoch 71/400, Train Loss: 0.0951, Val Loss: 0.0627, Train Accuracy: 0.9880, Val Accuracy: 0.9667\n",
      "Epoch 72/400, Train Loss: 0.0502, Val Loss: 0.0709, Train Accuracy: 0.9940, Val Accuracy: 0.9667\n",
      "Epoch 73/400, Train Loss: 0.0284, Val Loss: 0.0766, Train Accuracy: 0.9940, Val Accuracy: 0.9667\n",
      "Epoch 74/400, Train Loss: 0.0303, Val Loss: 0.0776, Train Accuracy: 0.9880, Val Accuracy: 0.9667\n",
      "Epoch 75/400, Train Loss: 0.0292, Val Loss: 0.0769, Train Accuracy: 1.0000, Val Accuracy: 0.9667\n",
      "Epoch 76/400, Train Loss: 0.0312, Val Loss: 0.0769, Train Accuracy: 1.0000, Val Accuracy: 0.9667\n",
      "Epoch 77/400, Train Loss: 0.0407, Val Loss: 0.0762, Train Accuracy: 0.9880, Val Accuracy: 0.9667\n",
      "Epoch 78/400, Train Loss: 0.0195, Val Loss: 0.0759, Train Accuracy: 1.0000, Val Accuracy: 0.9667\n",
      "Epoch 79/400, Train Loss: 0.0208, Val Loss: 0.0745, Train Accuracy: 1.0000, Val Accuracy: 0.9667\n",
      "Epoch 80/400, Train Loss: 0.0215, Val Loss: 0.0748, Train Accuracy: 1.0000, Val Accuracy: 0.9667\n",
      "Epoch 81/400, Train Loss: 0.0176, Val Loss: 0.0750, Train Accuracy: 1.0000, Val Accuracy: 0.9667\n",
      "Epoch 82/400, Train Loss: 0.0223, Val Loss: 0.0751, Train Accuracy: 1.0000, Val Accuracy: 0.9667\n",
      "Epoch 83/400, Train Loss: 0.0180, Val Loss: 0.0744, Train Accuracy: 1.0000, Val Accuracy: 0.9667\n",
      "Epoch 84/400, Train Loss: 0.0257, Val Loss: 0.0748, Train Accuracy: 0.9940, Val Accuracy: 0.9667\n",
      "Epoch 85/400, Train Loss: 0.0169, Val Loss: 0.0752, Train Accuracy: 1.0000, Val Accuracy: 0.9667\n",
      "Epoch 86/400, Train Loss: 0.0794, Val Loss: 0.0740, Train Accuracy: 0.9940, Val Accuracy: 0.9667\n",
      "Epoch 87/400, Train Loss: 0.1237, Val Loss: 0.0739, Train Accuracy: 0.9880, Val Accuracy: 0.9667\n",
      "Epoch 88/400, Train Loss: 0.0449, Val Loss: 0.0678, Train Accuracy: 0.9940, Val Accuracy: 0.9667\n",
      "Early stopping triggered after 88 epochs!\n"
     ]
    }
   ],
   "source": [
    "# Train the model\n",
    "all_preds, all_labels = trainer.train(epochs=400)"
   ]
  },
  {
   "cell_type": "code",
   "execution_count": 190,
   "metadata": {},
   "outputs": [
    {
     "data": {
      "image/png": "[encoded data removed]",
      "text/plain": [
       "<Figure size 1000x500 with 1 Axes>"
      ]
     },
     "metadata": {},
     "output_type": "display_data"
    }
   ],
   "source": [
    "# Plot Training and Validation Loss\n",
    "plt.figure(figsize=(10, 5))\n",
    "plt.plot(range(1, len(trainer.train_losses) + 1), trainer.train_losses, label='Train Loss')\n",
    "plt.plot(range(1, len(trainer.val_losses) + 1), trainer.val_losses, label='Validation Loss')\n",
    "plt.xlabel('Epoch')\n",
    "plt.ylabel('Loss')\n",
    "plt.title('Training and Validation Loss')\n",
    "plt.legend()\n",
    "plt.show()"
   ]
  },
  {
   "cell_type": "code",
   "execution_count": 191,
   "metadata": {},
   "outputs": [
    {
     "data": {
      "image/png": "[encoded data removed]",
      "text/plain": [
       "<Figure size 1000x500 with 1 Axes>"
      ]
     },
     "metadata": {},
     "output_type": "display_data"
    }
   ],
   "source": [
    "# Plot Training and Validation Accuracy\n",
    "plt.figure(figsize=(10, 5))\n",
    "plt.plot(range(1, len(trainer.train_accuracies) + 1), trainer.train_accuracies, label='Train Accuracy')\n",
    "plt.plot(range(1, len(trainer.val_accuracies) + 1), trainer.val_accuracies, label='Validation Accuracy')\n",
    "plt.xlabel('Epoch')\n",
    "plt.ylabel('Accuracy')\n",
    "plt.title('Training and Validation Accuracy')\n",
    "plt.legend()\n",
    "plt.show()"
   ]
  },
  {
   "cell_type": "markdown",
   "metadata": {},
   "source": [
    "### Results on validation data"
   ]
  },
  {
   "cell_type": "code",
   "execution_count": 192,
   "metadata": {},
   "outputs": [
    {
     "name": "stdout",
     "output_type": "stream",
     "text": [
      "\n",
      "Evaluation on Validation Set\n",
      "Classification Report:\n",
      "              precision    recall  f1-score   support\n",
      "\n",
      "     Control       0.92      1.00      0.96        11\n",
      "       Covid       1.00      0.95      0.97        19\n",
      "\n",
      "    accuracy                           0.97        30\n",
      "   macro avg       0.96      0.97      0.96        30\n",
      "weighted avg       0.97      0.97      0.97        30\n",
      "\n"
     ]
    }
   ],
   "source": [
    "# predictions returned by trainer on validation data\n",
    "print(\"\\nEvaluation on Validation Set\")\n",
    "print(\"Classification Report:\")\n",
    "print(classification_report(all_labels, all_preds, target_names=['Control', 'Covid']))"
   ]
  },
  {
   "cell_type": "code",
   "execution_count": 193,
   "metadata": {},
   "outputs": [
    {
     "data": {
      "image/png": "[encoded data removed]",
      "text/plain": [
       "<Figure size 800x600 with 2 Axes>"
      ]
     },
     "metadata": {},
     "output_type": "display_data"
    }
   ],
   "source": [
    "# Plot Confusion Matrix\n",
    "cm = confusion_matrix(all_labels, all_preds)\n",
    "plt.figure(figsize=(8, 6))\n",
    "sns.heatmap(cm, annot=True, fmt=\"d\", cmap=\"Blues\", xticklabels=['Control', 'Covid'], yticklabels=['Control', 'Covid'])\n",
    "plt.xlabel('Predicted Labels')\n",
    "plt.ylabel('True Labels')\n",
    "plt.title('Confusion Matrix')\n",
    "plt.show()"
   ]
  },
  {
   "cell_type": "markdown",
   "metadata": {},
   "source": [
    "## Results on test"
   ]
  },
  {
   "cell_type": "code",
   "execution_count": 194,
   "metadata": {},
   "outputs": [],
   "source": [
    "all_preds_test, all_labels_test = trainer.predict(test_dataset)"
   ]
  },
  {
   "cell_type": "code",
   "execution_count": 195,
   "metadata": {},
   "outputs": [
    {
     "name": "stdout",
     "output_type": "stream",
     "text": [
      "              precision    recall  f1-score   support\n",
      "\n",
      "     Control       1.00      0.92      0.96        13\n",
      "       Covid       0.96      1.00      0.98        22\n",
      "\n",
      "    accuracy                           0.97        35\n",
      "   macro avg       0.98      0.96      0.97        35\n",
      "weighted avg       0.97      0.97      0.97        35\n",
      "\n"
     ]
    }
   ],
   "source": [
    "# Generate classification report\n",
    "report = classification_report(all_labels_test, all_preds_test, target_names=['Control', 'Covid'])\n",
    "print(report)   "
   ]
  },
  {
   "cell_type": "code",
   "execution_count": 196,
   "metadata": {},
   "outputs": [
    {
     "data": {
      "image/png": "[encoded data removed]",
      "text/plain": [
       "<Figure size 800x600 with 2 Axes>"
      ]
     },
     "metadata": {},
     "output_type": "display_data"
    }
   ],
   "source": [
    "# Plot Confusion Matrix\n",
    "cm = confusion_matrix(all_labels_test, all_preds_test)\n",
    "plt.figure(figsize=(8, 6))\n",
    "sns.heatmap(cm, annot=True, fmt=\"d\", cmap=\"Blues\", xticklabels=['Control', 'Covid'], yticklabels=['Control', 'Covid'])\n",
    "plt.xlabel('Predicted Labels')\n",
    "plt.ylabel('True Labels')\n",
    "plt.title('Confusion Matrix')\n",
    "plt.show()"
   ]
  },
  {
   "cell_type": "code",
   "execution_count": 198,
   "metadata": {},
   "outputs": [
    {
     "name": "stderr",
     "output_type": "stream",
     "text": [
      "WARNING:absl:You are saving your model as an HDF5 file via `model.save()` or `keras.saving.save_model(model)`. This file format is considered legacy. We recommend using instead the native Keras format, e.g. `model.save('my_model.keras')` or `keras.saving.save_model(model, 'my_model.keras')`. \n"
     ]
    }
   ],
   "source": [
    "trainer.save_model('../models/1dcnn_model')\n",
    "X_train.to_csv('../analysis/X_train.csv', index=False)\n",
    "pd.DataFrame(Y_train).to_csv('../analysis/Y_train.csv', index=False)\n",
    "X_test.to_csv('../analysis/X_test.csv', index=False)\n",
    "pd.DataFrame(Y_test).to_csv('../analysis/Y_test.csv', index=False)\n",
    "X_val.to_csv('../analysis/X_val.csv', index=False)\n",
    "pd.DataFrame(Y_val).to_csv('../analysis/Y_val.csv', index=False)"
   ]
  },
  {
   "cell_type": "code",
   "execution_count": null,
   "metadata": {},
   "outputs": [],
   "source": []
  }
 ],
 "metadata": {
  "kernelspec": {
   "display_name": "nndl",
   "language": "python",
   "name": "python3"
  },
  "language_info": {
   "codemirror_mode": {
    "name": "ipython",
    "version": 3
   },
   "file_extension": ".py",
   "mimetype": "text/x-python",
   "name": "python",
   "nbconvert_exporter": "python",
   "pygments_lexer": "ipython3",
   "version": "3.11.9"
  }
 },
 "nbformat": 4,
 "nbformat_minor": 2
}
